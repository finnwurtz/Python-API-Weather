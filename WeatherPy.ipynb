{
 "cells": [
  {
   "cell_type": "code",
   "execution_count": 1,
   "metadata": {},
   "outputs": [],
   "source": [
    "import matplotlib.pyplot as plt\n",
    "import pandas as pd\n",
    "import numpy as np\n",
    "import requests\n",
    "import time\n",
    "\n",
    "api_key = \"594de577cef9e1dac6216ad80511c028\"\n",
    "\n",
    "from citipy import citipy\n",
    "\n",
    "output_data_file = \"output_data/cities.csv\"\n",
    "\n",
    "lat_range = (-90, 90)\n",
    "lng_range = (-180, 180)"
   ]
  },
  {
   "cell_type": "code",
   "execution_count": 2,
   "metadata": {},
   "outputs": [
    {
     "data": {
      "text/plain": [
       "621"
      ]
     },
     "execution_count": 2,
     "metadata": {},
     "output_type": "execute_result"
    }
   ],
   "source": [
    "lat_lngs = []\n",
    "cities = []\n",
    "\n",
    "lats = np.random.uniform(low=-90.000, high=90.000, size=1500)\n",
    "lngs = np.random.uniform(low=-180.000, high=180.000, size=1500)\n",
    "lat_lngs = zip(lats, lngs)\n",
    "\n",
    "for lat_lng in lat_lngs:\n",
    "    city = citipy.nearest_city(lat_lng[0], lat_lng[1]).city_name\n",
    "    \n",
    "    if city not in cities:\n",
    "        cities.append(city)\n",
    "\n",
    "len(cities)"
   ]
  },
  {
   "cell_type": "code",
   "execution_count": null,
   "metadata": {},
   "outputs": [],
   "source": [
    "url = \"http://api.openweathermap.org/data/2.5/weather?\"\n",
    "units = \"metric\"\n",
    "\n",
    "query_url = f\"{url}appid={api_key}&units={units}&q=\"\n",
    "\n",
    "response_list = []\n",
    "useless_cities = []\n",
    "\n",
    "for city in cities:\n",
    "    query = requests.get(query_url + city).json()\n",
    "    if query['cod'] != '404':\n",
    "        response_list.append(query)\n",
    "    else:\n",
    "        useless_cities.append(city)\n",
    "        \n",
    "for city in useless_cities:\n",
    "    cities.remove(city)\n",
    "\n",
    "len(response_list)"
   ]
  },
  {
   "cell_type": "code",
   "execution_count": 4,
   "metadata": {},
   "outputs": [
    {
     "name": "stdout",
     "output_type": "stream",
     "text": [
      "Dictionary columns created\n"
     ]
    }
   ],
   "source": [
    "cloudiness = []\n",
    "country = []\n",
    "date = []\n",
    "humidity = []\n",
    "lat = []\n",
    "lng = []\n",
    "max_temp = []\n",
    "wind_speed = []\n",
    "    \n",
    "for response in response_list:\n",
    "    cloudiness.append(response['clouds']['all'])\n",
    "    country.append(response['sys']['country'])\n",
    "    date.append(response['dt'])\n",
    "    humidity.append(response['main']['humidity'])\n",
    "    lat.append(response['coord']['lat'])\n",
    "    lng.append(response['coord']['lon'])\n",
    "    max_temp.append(response['main']['temp_max'])\n",
    "    wind_speed.append(response['wind']['speed'])\n",
    "    \n",
    "print(\"Dictionary columns created\")"
   ]
  },
  {
   "cell_type": "code",
   "execution_count": null,
   "metadata": {},
   "outputs": [],
   "source": [
    "weather_dict = {\n",
    "    \"City\": cities,\n",
    "    \"Cloudiness\": cloudiness,\n",
    "    \"Country\": country,\n",
    "    \"Date\": date,\n",
    "    \"Humidity\": humidity,\n",
    "    \"Lat\": lat,\n",
    "    \"Lng\": lng,\n",
    "    \"Max Temp\": max_temp,\n",
    "    \"Wind Speed\": wind_speed\n",
    "}\n",
    "weather_data = pd.DataFrame(weather_dict)\n",
    "weather_data.head()"
   ]
  },
  {
   "cell_type": "code",
   "execution_count": null,
   "metadata": {},
   "outputs": [],
   "source": [
    "plt.scatter(weather_data[\"Lat\"], weather_data[\"Max Temp\"], marker=\"o\")\n",
    "\n",
    "plt.title(\"City Latitude vs. Max Temperature (07/02/19)\")\n",
    "plt.ylabel(\"Max Temperature (Celcius)\")\n",
    "plt.xlabel(\"City Latitude\")\n",
    "plt.grid(True)\n",
    "\n",
    "plt.savefig(\"Max_Temp_By_Latitude.png\")\n",
    "\n",
    "plt.show()"
   ]
  },
  {
   "cell_type": "code",
   "execution_count": null,
   "metadata": {},
   "outputs": [],
   "source": [
    "plt.scatter(weather_data[\"Lat\"], weather_data[\"Humidity\"], marker=\"o\")\n",
    "\n",
    "plt.title(\"City Latitude vs. Humidity (07/02/19)\")\n",
    "plt.ylabel(\"Humidity (%)\")\n",
    "plt.xlabel(\"City Latitude\")\n",
    "plt.grid(True)\n",
    "\n",
    "plt.savefig(\"Humidity_By_Latitude.png\")\n",
    "\n",
    "plt.show()"
   ]
  },
  {
   "cell_type": "code",
   "execution_count": null,
   "metadata": {},
   "outputs": [],
   "source": [
    "plt.scatter(weather_data[\"Lat\"], weather_data[\"Cloudiness\"], marker=\"o\")\n",
    "\n",
    "plt.title(\"City Latitude vs. Cloudiness (07/02/19)\")\n",
    "plt.ylabel(\"Cloudiness (%)\")\n",
    "plt.xlabel(\"City Latitude\")\n",
    "plt.grid(True)\n",
    "\n",
    "plt.savefig(\"Humidity_By_Latitude.png\")\n",
    "\n",
    "plt.show()"
   ]
  },
  {
   "cell_type": "code",
   "execution_count": null,
   "metadata": {},
   "outputs": [],
   "source": [
    "plt.scatter(weather_data[\"Lat\"], weather_data[\"Wind Speed\"], marker=\"o\")\n",
    "\n",
    "plt.title(\"City Latitude vs. Wind Speed (07/02/19)\")\n",
    "plt.ylabel(\"Wind Speed\")\n",
    "plt.xlabel(\"City Latitude\")\n",
    "plt.grid(True)\n",
    "\n",
    "plt.savefig(\"Humidity_By_Latitude.png\")\n",
    "\n",
    "plt.show()"
   ]
  },
  {
   "cell_type": "code",
   "execution_count": null,
   "metadata": {
    "scrolled": true
   },
   "outputs": [],
   "source": [
    "print('THREE TRENDS CAN BE OBSERVED:')\n",
    "print('')\n",
    "print('FIRST: CITIES NEAR THE EQUATOR ARE EXPERIENCING HIGHER TEMPERATURES THAN CITIES NEAR THE POLES')\n",
    "print('SECOND: CITIES WITH LOW HUMIDITY ARE CONCENTRATED IN THE MID LATITUDES')\n",
    "print('THIRD: WIND SPEED AND CLOUDINESS APPEAR TO BE EVENLY DISTRIBUTED ACROSS DIFFERENT LATITUDES')"
   ]
  },
  {
   "cell_type": "code",
   "execution_count": null,
   "metadata": {
    "collapsed": true
   },
   "outputs": [],
   "source": []
  }
 ],
 "metadata": {
  "kernelspec": {
   "display_name": "Python 3",
   "language": "python",
   "name": "python3"
  },
  "language_info": {
   "codemirror_mode": {
    "name": "ipython",
    "version": 3
   },
   "file_extension": ".py",
   "mimetype": "text/x-python",
   "name": "python",
   "nbconvert_exporter": "python",
   "pygments_lexer": "ipython3",
   "version": "3.6.3"
  }
 },
 "nbformat": 4,
 "nbformat_minor": 2
}
